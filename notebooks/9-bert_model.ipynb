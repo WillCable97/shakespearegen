{
 "cells": [
  {
   "cell_type": "code",
   "execution_count": 1,
   "metadata": {},
   "outputs": [],
   "source": [
    "import sys\n",
    "sys.path.append(\"../\")"
   ]
  },
  {
   "cell_type": "code",
   "execution_count": 2,
   "metadata": {},
   "outputs": [
    {
     "name": "stdout",
     "output_type": "stream",
     "text": [
      "WARNING:tensorflow:From c:\\Users\\willi\\Anaconda3\\envs\\analytics\\lib\\site-packages\\tf_keras\\src\\losses.py:2976: The name tf.losses.sparse_softmax_cross_entropy is deprecated. Please use tf.compat.v1.losses.sparse_softmax_cross_entropy instead.\n",
      "\n"
     ]
    }
   ],
   "source": [
    "import tensorflow as tf\n",
    "import tensorflow_hub as hub\n",
    "from tensorflow.keras.models import Sequential\n",
    "from tensorflow.keras.layers import Input, Dense\n",
    "from tensorflow.keras.optimizers import Adam\n",
    "from tensorflow.keras.losses import SparseCategoricalCrossentropy"
   ]
  },
  {
   "cell_type": "code",
   "execution_count": 5,
   "metadata": {},
   "outputs": [
    {
     "ename": "ModuleNotFoundError",
     "evalue": "No module named 'keras.preprocessing.text'",
     "output_type": "error",
     "traceback": [
      "\u001b[1;31m---------------------------------------------------------------------------\u001b[0m",
      "\u001b[1;31mModuleNotFoundError\u001b[0m                       Traceback (most recent call last)",
      "Cell \u001b[1;32mIn[5], line 4\u001b[0m\n\u001b[0;32m      1\u001b[0m \u001b[38;5;28;01mimport\u001b[39;00m \u001b[38;5;21;01mos\u001b[39;00m \n\u001b[0;32m      2\u001b[0m \u001b[38;5;28;01mimport\u001b[39;00m \u001b[38;5;21;01mtensorflow\u001b[39;00m \u001b[38;5;28;01mas\u001b[39;00m \u001b[38;5;21;01mtf\u001b[39;00m\n\u001b[1;32m----> 4\u001b[0m \u001b[38;5;28;01mfrom\u001b[39;00m \u001b[38;5;21;01msrc\u001b[39;00m\u001b[38;5;21;01m.\u001b[39;00m\u001b[38;5;21;01mdata\u001b[39;00m\u001b[38;5;21;01m.\u001b[39;00m\u001b[38;5;21;01mTextToToken\u001b[39;00m\u001b[38;5;21;01m.\u001b[39;00m\u001b[38;5;21;01mMyTfTokenizer\u001b[39;00m \u001b[38;5;28;01mimport\u001b[39;00m MyTfToken\n\u001b[0;32m      5\u001b[0m \u001b[38;5;28;01mfrom\u001b[39;00m \u001b[38;5;21;01msrc\u001b[39;00m\u001b[38;5;21;01m.\u001b[39;00m\u001b[38;5;21;01mdata\u001b[39;00m\u001b[38;5;21;01m.\u001b[39;00m\u001b[38;5;21;01mDataObjects\u001b[39;00m\u001b[38;5;21;01m.\u001b[39;00m\u001b[38;5;21;01mTransformerTextDataObject\u001b[39;00m \u001b[38;5;28;01mimport\u001b[39;00m TransformerTextDataObject\n\u001b[0;32m      6\u001b[0m \u001b[38;5;28;01mfrom\u001b[39;00m \u001b[38;5;21;01msrc\u001b[39;00m\u001b[38;5;21;01m.\u001b[39;00m\u001b[38;5;21;01mdata\u001b[39;00m\u001b[38;5;21;01m.\u001b[39;00m\u001b[38;5;21;01mDataLoaders\u001b[39;00m \u001b[38;5;28;01mimport\u001b[39;00m get_webscrape_data\n",
      "File \u001b[1;32mc:\\Users\\willi\\Desktop\\Data Science Portfolio\\shakespearegen\\notebooks\\..\\src\\data\\TextToToken\\MyTfTokenizer.py:2\u001b[0m\n\u001b[0;32m      1\u001b[0m \u001b[38;5;28;01mfrom\u001b[39;00m \u001b[38;5;21;01msrc\u001b[39;00m\u001b[38;5;21;01m.\u001b[39;00m\u001b[38;5;21;01mdata\u001b[39;00m\u001b[38;5;21;01m.\u001b[39;00m\u001b[38;5;21;01mTextToToken\u001b[39;00m\u001b[38;5;21;01m.\u001b[39;00m\u001b[38;5;21;01mTextToToken\u001b[39;00m \u001b[38;5;28;01mimport\u001b[39;00m TextToToken\n\u001b[1;32m----> 2\u001b[0m \u001b[38;5;28;01mfrom\u001b[39;00m \u001b[38;5;21;01mkeras\u001b[39;00m\u001b[38;5;21;01m.\u001b[39;00m\u001b[38;5;21;01mpreprocessing\u001b[39;00m\u001b[38;5;21;01m.\u001b[39;00m\u001b[38;5;21;01mtext\u001b[39;00m \u001b[38;5;28;01mimport\u001b[39;00m Tokenizer\n\u001b[0;32m      4\u001b[0m \u001b[38;5;28;01mclass\u001b[39;00m \u001b[38;5;21;01mMyTfToken\u001b[39;00m(TextToToken):\n\u001b[0;32m      5\u001b[0m \u001b[38;5;250m    \u001b[39m\u001b[38;5;124;03m\"\"\"\u001b[39;00m\n\u001b[0;32m      6\u001b[0m \u001b[38;5;124;03m        Wrapper for Tensorflow Tokenizer\u001b[39;00m\n\u001b[0;32m      7\u001b[0m \u001b[38;5;124;03m    \"\"\"\u001b[39;00m\n",
      "\u001b[1;31mModuleNotFoundError\u001b[0m: No module named 'keras.preprocessing.text'"
     ]
    }
   ],
   "source": [
    "import os \n",
    "import tensorflow as tf\n",
    "\n",
    "from src.data.TextToToken.MyTfTokenizer import MyTfToken\n",
    "from src.data.DataObjects.TransformerTextDataObject import TransformerTextDataObject\n",
    "from src.data.DataLoaders import get_webscrape_data\n",
    "\n",
    "from src.models.Transformer.Transformer import Transformer\n",
    "\n",
    "from src.models.LossAndMetrics import masked_loss, masked_accuracy, CustomSchedule\n",
    "from src.models.Callbacks.callbacks import csv_callback, checkpoint_callback, TransformerOutputCallback\n",
    "from src.models.TextGenerators.StandardTransformerGenerator import StandardTransformerGenerator\n",
    "\n",
    "\"\"\"\n",
    "#Project details\n",
    "project_directory = os.path.abspath(\"./\")\n",
    "path_to_data_folder = os.path.join(project_directory, \"data/processed/webdata\")\n",
    "context_token = MyTfToken(use_bookmark=True)\n",
    "content_token = MyTfToken(use_bookmark=True)\n",
    "\n",
    "model_name = \"WebTransformerUpdated\"\n",
    "\n",
    "sequence_length = 62\n",
    "batch_size = 64\n",
    "buffer_size = 10000\n",
    "embedding_dimension = 128\n",
    "dense_dimension = 256\n",
    "num_heads = 2\n",
    "num_att_layers = 1\n",
    "dropout_rate = 0.1\n",
    "\n",
    "\n",
    "my_data_set = TransformerTextDataObject(context_sequencer=context_token, content_sequencer=content_token\n",
    "                                        , context_len=sequence_length, content_len=sequence_length\n",
    "                                        ,data_loader=get_webscrape_data, data_path=path_to_data_folder)\n",
    "\n",
    "vocab_size_shake = my_data_set.content_vocab\n",
    "vocab_size_eng = my_data_set.context_vocab\n",
    "\n",
    "print(f\"Shakespeare Vocab: {vocab_size_shake} , English Vocab: {vocab_size_eng}\")\n",
    "\n",
    "training_dataset = my_data_set.batch_and_shuffle(batch_size=batch_size,buffer_size=buffer_size)\"\"\"\n"
   ]
  },
  {
   "cell_type": "code",
   "execution_count": null,
   "metadata": {},
   "outputs": [],
   "source": [
    "keras.preprocessing.tex"
   ]
  },
  {
   "cell_type": "code",
   "execution_count": null,
   "metadata": {},
   "outputs": [],
   "source": []
  },
  {
   "cell_type": "code",
   "execution_count": null,
   "metadata": {},
   "outputs": [],
   "source": []
  },
  {
   "cell_type": "code",
   "execution_count": null,
   "metadata": {},
   "outputs": [],
   "source": [
    "\n",
    "# Load pre-trained BERT model from TensorFlow Hub\n",
    "bert_model_url = \"https://tfhub.dev/tensorflow/small_bert/bert_en_uncased_L-4_H-512_A-8/1\"\n",
    "bert_layer = hub.KerasLayer(bert_model_url, trainable=True)\n",
    "\n",
    "# Create a Sequential model with BERT layer\n",
    "model = Sequential([\n",
    "    Input(shape=(), dtype=tf.string),\n",
    "    bert_layer,\n",
    "    Dense(256, activation='relu'),\n",
    "    Dense(num_labels, activation='softmax')\n",
    "])\n",
    "\n",
    "# Compile the model\n",
    "model.compile(\n",
    "    optimizer=Adam(learning_rate=1e-5),\n",
    "    loss=SparseCategoricalCrossentropy(),\n",
    "    metrics=['accuracy']\n",
    ")\n",
    "\n",
    "# Tokenize and format your data\n",
    "tokenizer = bert_tokenization.FullTokenizer(\n",
    "    vocab_file=bert_layer.resolved_object.vocab_file.asset_path.numpy(),\n",
    "    do_lower_case=bert_layer.resolved_object.do_lower_case.numpy()\n",
    ")\n",
    "\n",
    "tokenized_data = texts.map(lambda x: tokenizer.tokenize(x))\n",
    "input_ids = tokenized_data.map(lambda x: tokenizer.convert_tokens_to_ids(x))\n",
    "input_ids = input_ids.map(lambda x: tf.keras.preprocessing.sequence.pad_sequences([x], maxlen=max_seq_length))\n",
    "\n",
    "# Train the model\n",
    "model.fit(\n",
    "    input_ids, labels,\n",
    "    epochs=num_epochs,\n",
    "    batch_size=batch_size\n",
    ")\n",
    "\n",
    "# Save the fine-tuned model\n",
    "model.save(\"fine_tuned_bert_model\")\n"
   ]
  },
  {
   "cell_type": "code",
   "execution_count": null,
   "metadata": {},
   "outputs": [],
   "source": []
  },
  {
   "cell_type": "code",
   "execution_count": null,
   "metadata": {},
   "outputs": [],
   "source": []
  },
  {
   "cell_type": "code",
   "execution_count": null,
   "metadata": {},
   "outputs": [],
   "source": []
  }
 ],
 "metadata": {
  "kernelspec": {
   "display_name": "analytics",
   "language": "python",
   "name": "python3"
  },
  "language_info": {
   "codemirror_mode": {
    "name": "ipython",
    "version": 3
   },
   "file_extension": ".py",
   "mimetype": "text/x-python",
   "name": "python",
   "nbconvert_exporter": "python",
   "pygments_lexer": "ipython3",
   "version": "3.9.17"
  }
 },
 "nbformat": 4,
 "nbformat_minor": 2
}
