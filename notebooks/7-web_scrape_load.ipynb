{
 "cells": [
  {
   "cell_type": "code",
   "execution_count": 7,
   "metadata": {},
   "outputs": [],
   "source": [
    "import os\n",
    "import pickle"
   ]
  },
  {
   "cell_type": "code",
   "execution_count": 3,
   "metadata": {},
   "outputs": [],
   "source": [
    "all_eng_text = []\n",
    "all_og_text =[]"
   ]
  },
  {
   "cell_type": "code",
   "execution_count": 5,
   "metadata": {},
   "outputs": [],
   "source": [
    "dat_dir = \"./data\""
   ]
  },
  {
   "cell_type": "code",
   "execution_count": 21,
   "metadata": {},
   "outputs": [],
   "source": [
    "def get_webscrape_data(data_path: str):\n",
    "    all_eng_text = []\n",
    "    all_og_text =[]\n",
    "\n",
    "    for dir_eg in os.listdir(data_path):\n",
    "        path_to_play = os.path.join(data_path, dir_eg)\n",
    "        \n",
    "        with open(os.path.join(path_to_play, \"english_lines.txt\"), \"rb\") as fp:   # Unpickling\n",
    "            play_eng_lines = pickle.load(fp)\n",
    "\n",
    "        with open(os.path.join(path_to_play, \"og_lines.txt\"), \"rb\") as fp2:   # Unpickling\n",
    "            play_og_lines = pickle.load(fp2)\n",
    "\n",
    "        if len(play_eng_lines) != len(play_og_lines): print(\"PROBLEMS\")\n",
    "\n",
    "        all_eng_text += play_eng_lines\n",
    "        all_og_text += play_og_lines"
   ]
  },
  {
   "cell_type": "code",
   "execution_count": 22,
   "metadata": {},
   "outputs": [
    {
     "name": "stdout",
     "output_type": "stream",
     "text": [
      "A Midsummer Night's Dream\n",
      "All's Well That Ends Well\n",
      "Antony and Cleopatra\n",
      "As You Like It\n",
      "Coriolanus\n",
      "Cymbeline\n",
      "Hamlet\n",
      "Henry IV, Part 1\n",
      "Henry IV, Part 2\n",
      "Henry V\n",
      "Henry VI, Part 1\n",
      "Henry VI, Part 2\n",
      "Henry VI, Part 3\n",
      "Henry VIII\n",
      "Julius Caesar\n",
      "King John\n",
      "King Lear\n",
      "Love's Labor's Lost\n",
      "Macbeth\n",
      "Measure for Measure\n",
      "Much Ado About Nothing\n",
      "Othello\n",
      "Pericles\n",
      "Richard II\n",
      "Richard III\n",
      "Romeo and Juliet\n",
      "Shakespeare's Sonnets\n",
      "The Comedy of Errors\n",
      "The Merchant of Venice\n",
      "The Merry Wives of Windsor\n",
      "The Taming of the Shrew\n",
      "The Tempest\n",
      "The Two Gentlemen of Verona\n",
      "The Winter's Tale\n",
      "Timon of Athens\n",
      "Titus Andronicus\n",
      "Troilus and Cressida\n",
      "Twelfth Night\n"
     ]
    }
   ],
   "source": [
    "get_webscrape_data(\"./data\")"
   ]
  },
  {
   "cell_type": "code",
   "execution_count": null,
   "metadata": {},
   "outputs": [],
   "source": [
    "\n",
    ">>> with open(\"test\", \"rb\") as fp:   # Unpickling\n",
    "...   b = pickle.load(fp)"
   ]
  },
  {
   "cell_type": "code",
   "execution_count": null,
   "metadata": {},
   "outputs": [],
   "source": []
  },
  {
   "cell_type": "code",
   "execution_count": null,
   "metadata": {},
   "outputs": [],
   "source": []
  },
  {
   "cell_type": "code",
   "execution_count": null,
   "metadata": {},
   "outputs": [],
   "source": []
  },
  {
   "cell_type": "code",
   "execution_count": null,
   "metadata": {},
   "outputs": [],
   "source": []
  }
 ],
 "metadata": {
  "kernelspec": {
   "display_name": "analytics",
   "language": "python",
   "name": "python3"
  },
  "language_info": {
   "codemirror_mode": {
    "name": "ipython",
    "version": 3
   },
   "file_extension": ".py",
   "mimetype": "text/x-python",
   "name": "python",
   "nbconvert_exporter": "python",
   "pygments_lexer": "ipython3",
   "version": "3.9.17"
  }
 },
 "nbformat": 4,
 "nbformat_minor": 2
}
