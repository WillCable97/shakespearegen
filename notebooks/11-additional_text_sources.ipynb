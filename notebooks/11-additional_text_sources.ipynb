{
 "cells": [
  {
   "cell_type": "code",
   "execution_count": 1,
   "metadata": {},
   "outputs": [],
   "source": [
    "import os"
   ]
  },
  {
   "cell_type": "code",
   "execution_count": 5,
   "metadata": {},
   "outputs": [],
   "source": [
    "root_path = os.path.abspath(\"../\")\n",
    "proc_data_path = os.path.join(root_path, \"data\", \"processed\")\n",
    "base_text_file = os.path.join(proc_data_path, \"linetext.txt\")"
   ]
  },
  {
   "cell_type": "markdown",
   "metadata": {},
   "source": [
    "Lines with bookmarks"
   ]
  },
  {
   "cell_type": "code",
   "execution_count": 7,
   "metadata": {},
   "outputs": [],
   "source": [
    "updated_file = os.path.join(proc_data_path, \"textdata\", \"bookmark_text.txt\")"
   ]
  },
  {
   "cell_type": "code",
   "execution_count": 9,
   "metadata": {},
   "outputs": [],
   "source": [
    "with open(base_text_file, \"r\") as file:\n",
    "    lines = file.readlines()"
   ]
  },
  {
   "cell_type": "code",
   "execution_count": 23,
   "metadata": {},
   "outputs": [],
   "source": [
    "updated_lines = [\"*\" + x.replace(\"\\n\", \"\") + \"*\\n\" for x in lines]"
   ]
  },
  {
   "cell_type": "code",
   "execution_count": 24,
   "metadata": {},
   "outputs": [],
   "source": [
    "with open(updated_file, \"w+\") as file2:\n",
    "    file2.writelines(updated_lines)"
   ]
  },
  {
   "cell_type": "markdown",
   "metadata": {},
   "source": [
    "30 Word Text File"
   ]
  },
  {
   "cell_type": "code",
   "execution_count": 34,
   "metadata": {},
   "outputs": [],
   "source": [
    "all_text = ' '.join(lines)\n",
    "split_text = all_text.split()"
   ]
  },
  {
   "cell_type": "code",
   "execution_count": 37,
   "metadata": {},
   "outputs": [
    {
     "data": {
      "text/plain": [
       "['ACT I SCENE I. London. The palace. Enter KING HENRY,',\n",
       " 'LORD JOHN OF LANCASTER, the EARL of WESTMORELAND, SIR WALTER',\n",
       " 'BLUNT, and others So shaken as we are, so wan',\n",
       " 'with care, Find we a time for frighted peace to',\n",
       " 'pant, And breathe short-winded accents of new broils To be']"
      ]
     },
     "execution_count": 37,
     "metadata": {},
     "output_type": "execute_result"
    }
   ],
   "source": [
    "joined_lines = []\n",
    "for i in range(int(len(split_text)/ 10)):\n",
    "    joined_lines.append(' '.join(split_text[i * 30: (i+1) *30]))\n",
    "joined_lines[:5]"
   ]
  },
  {
   "cell_type": "code",
   "execution_count": null,
   "metadata": {},
   "outputs": [],
   "source": []
  },
  {
   "cell_type": "code",
   "execution_count": 25,
   "metadata": {},
   "outputs": [
    {
     "name": "stdout",
     "output_type": "stream",
     "text": [
      "1032, 41390\n"
     ]
    }
   ],
   "source": [
    "max_len = 0\n",
    "max_len_iter = -1\n",
    "\n",
    "\n",
    "for i, x in enumerate(updated_lines):\n",
    "    if len(x)> max_len:\n",
    "        max_len= len(x)\n",
    "        max_len_iter = i\n",
    "\n",
    "print(f\"{max_len}, {max_len_iter}\")\n"
   ]
  },
  {
   "cell_type": "code",
   "execution_count": 32,
   "metadata": {},
   "outputs": [
    {
     "data": {
      "text/plain": [
       "7.313510839255195"
      ]
     },
     "execution_count": 32,
     "metadata": {},
     "output_type": "execute_result"
    }
   ],
   "source": [
    "total_word_count = len(' '.join(lines).split())\n",
    "total_word_count / len(lines)"
   ]
  },
  {
   "cell_type": "code",
   "execution_count": null,
   "metadata": {},
   "outputs": [],
   "source": []
  }
 ],
 "metadata": {
  "kernelspec": {
   "display_name": "analytics",
   "language": "python",
   "name": "python3"
  },
  "language_info": {
   "codemirror_mode": {
    "name": "ipython",
    "version": 3
   },
   "file_extension": ".py",
   "mimetype": "text/x-python",
   "name": "python",
   "nbconvert_exporter": "python",
   "pygments_lexer": "ipython3",
   "version": "3.9.17"
  }
 },
 "nbformat": 4,
 "nbformat_minor": 2
}
