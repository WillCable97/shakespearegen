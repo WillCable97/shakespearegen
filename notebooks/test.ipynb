{
 "cells": [
  {
   "cell_type": "code",
   "execution_count": 2,
   "metadata": {},
   "outputs": [],
   "source": [
    "import sys\n",
    "sys.path.append(\"../\")"
   ]
  },
  {
   "cell_type": "code",
   "execution_count": 6,
   "metadata": {},
   "outputs": [],
   "source": [
    "import os \n",
    "import tensorflow as tf\n",
    "\n",
    "from src.data.TextToToken.CustomCharacterToken import CustomCharacterToken\n",
    "from src.data.DataObjects.StandardTextDataObject import E2EStandardTextObject\n",
    "from src.data.DataLoaders import get_data_from_hgset"
   ]
  },
  {
   "cell_type": "code",
   "execution_count": 7,
   "metadata": {},
   "outputs": [],
   "source": [
    "content_token = CustomCharacterToken(use_bookmark=False)\n",
    "\n",
    "sequence_length = 100\n",
    "batch_size = 64\n",
    "buffer_size = 10000\n",
    "embedding_dimension = 128\n",
    "dense_dimension = 256"
   ]
  },
  {
   "cell_type": "code",
   "execution_count": 8,
   "metadata": {},
   "outputs": [
    {
     "name": "stderr",
     "output_type": "stream",
     "text": [
      "Using the latest cached version of the module from C:\\Users\\willi\\.cache\\huggingface\\modules\\datasets_modules\\datasets\\tiny_shakespeare\\b5b13969f09fe8707337f6cb296314fbe06960bd9a868dca39e713e163d27b5e (last modified on Thu Dec 28 11:36:59 2023) since it couldn't be found locally at tiny_shakespeare., or remotely on the Hugging Face Hub.\n",
      "Found cached dataset tiny_shakespeare (C:/Users/willi/.cache/huggingface/datasets/tiny_shakespeare/default/1.0.0/b5b13969f09fe8707337f6cb296314fbe06960bd9a868dca39e713e163d27b5e)\n"
     ]
    },
    {
     "data": {
      "application/vnd.jupyter.widget-view+json": {
       "model_id": "15f02959d0344609b235aacceed1e669",
       "version_major": 2,
       "version_minor": 0
      },
      "text/plain": [
       "  0%|          | 0/3 [00:00<?, ?it/s]"
      ]
     },
     "metadata": {},
     "output_type": "display_data"
    }
   ],
   "source": [
    "my_data_set = E2EStandardTextObject(text_sequencer=content_token, data_loader=get_data_from_hgset\n",
    "                                    , sequence_lenth=sequence_length, set_name=\"tiny_shakespeare\", sequence_len=sequence_length)"
   ]
  },
  {
   "cell_type": "code",
   "execution_count": 9,
   "metadata": {},
   "outputs": [],
   "source": [
    "vocab_size_shake = my_data_set.text_sequencer.get_vocab_size()\n",
    "training_dataset = my_data_set.batch_and_shuffle(batch_size=batch_size,buffer_size=buffer_size)"
   ]
  },
  {
   "cell_type": "code",
   "execution_count": 12,
   "metadata": {},
   "outputs": [],
   "source": [
    "test_example = [my_data_set.token_list[0]]"
   ]
  },
  {
   "cell_type": "code",
   "execution_count": 14,
   "metadata": {},
   "outputs": [
    {
     "name": "stdout",
     "output_type": "stream",
     "text": [
      "Model: \"model\"\n",
      "__________________________________________________________________________________________________\n",
      " Layer (type)                Output Shape                 Param #   Connected to                  \n",
      "==================================================================================================\n",
      " input_1 (InputLayer)        [(None, None)]               0         []                            \n",
      "                                                                                                  \n",
      " input_2 (InputLayer)        [(None, None)]               0         []                            \n",
      "                                                                                                  \n",
      " embedding_2 (Embedding)     (None, None, 256)            16640     ['input_1[0][0]']             \n",
      "                                                                                                  \n",
      " embedding_3 (Embedding)     (None, None, 256)            16640     ['input_2[0][0]']             \n",
      "                                                                                                  \n",
      " lstm_2 (LSTM)               [(None, 512),                1574912   ['embedding_2[0][0]']         \n",
      "                              (None, 512),                                                        \n",
      "                              (None, 512)]                                                        \n",
      "                                                                                                  \n",
      " lstm_3 (LSTM)               [(None, None, 512),          1574912   ['embedding_3[0][0]',         \n",
      "                              (None, 512),                           'lstm_2[0][1]',              \n",
      "                              (None, 512)]                           'lstm_2[0][2]']              \n",
      "                                                                                                  \n",
      " dense_2 (Dense)             (None, None, 65)             33345     ['lstm_3[0][0]']              \n",
      "                                                                                                  \n",
      "==================================================================================================\n",
      "Total params: 3216449 (12.27 MB)\n",
      "Trainable params: 3216449 (12.27 MB)\n",
      "Non-trainable params: 0 (0.00 Byte)\n",
      "__________________________________________________________________________________________________\n"
     ]
    }
   ],
   "source": [
    "import tensorflow as tf\n",
    "from tensorflow.keras.models import Model\n",
    "from tensorflow.keras.layers import Input, LSTM, Embedding, Dense\n",
    "\n",
    "# Define the model architecture\n",
    "def seq2seq_model(input_vocab_size, output_vocab_size, embedding_dim, hidden_units):\n",
    "    # Encoder\n",
    "    encoder_inputs = Input(shape=(None,))\n",
    "    encoder_embedding = Embedding(input_vocab_size, embedding_dim)(encoder_inputs)\n",
    "    encoder_lstm = LSTM(hidden_units, return_state=True)\n",
    "    encoder_outputs, state_h, state_c = encoder_lstm(encoder_embedding)\n",
    "    encoder_states = [state_h, state_c]\n",
    "\n",
    "    # Decoder\n",
    "    decoder_inputs = Input(shape=(None,))\n",
    "    decoder_embedding = Embedding(output_vocab_size, embedding_dim)\n",
    "    decoder_lstm = LSTM(hidden_units, return_sequences=True, return_state=True)\n",
    "    decoder_outputs, _, _ = decoder_lstm(decoder_embedding(decoder_inputs), initial_state=encoder_states)\n",
    "    decoder_dense = Dense(output_vocab_size, activation='softmax')\n",
    "    decoder_outputs = decoder_dense(decoder_outputs)\n",
    "\n",
    "    # Model\n",
    "    model = Model([encoder_inputs, decoder_inputs], decoder_outputs)\n",
    "\n",
    "    return model\n",
    "\n",
    "# Example usage\n",
    "input_vocab_size = vocab_size_shake  # Adjust based on your dataset\n",
    "output_vocab_size = vocab_size_shake  # Adjust based on your dataset\n",
    "embedding_dim = 256\n",
    "hidden_units = 512\n",
    "\n",
    "model = seq2seq_model(input_vocab_size, output_vocab_size, embedding_dim, hidden_units)\n",
    "\n",
    "# Compile the model\n",
    "model.compile(optimizer='adam', loss='sparse_categorical_crossentropy', metrics=['accuracy'])\n",
    "\n",
    "# Print the model summary\n",
    "model.summary()\n"
   ]
  },
  {
   "cell_type": "code",
   "execution_count": 16,
   "metadata": {},
   "outputs": [
    {
     "ename": "TypeError",
     "evalue": "Cannot iterate over a Tensor with unknown first dimension.",
     "output_type": "error",
     "traceback": [
      "\u001b[1;31m---------------------------------------------------------------------------\u001b[0m",
      "\u001b[1;31mTypeError\u001b[0m                                 Traceback (most recent call last)",
      "Cell \u001b[1;32mIn[16], line 27\u001b[0m\n\u001b[0;32m     23\u001b[0m     \u001b[38;5;28;01mreturn\u001b[39;00m encoder_model, decoder_model\n\u001b[0;32m     25\u001b[0m \u001b[38;5;66;03m# Example usage\u001b[39;00m\n\u001b[0;32m     26\u001b[0m \u001b[38;5;66;03m# Assuming 'model' is your trained Seq2Seq model\u001b[39;00m\n\u001b[1;32m---> 27\u001b[0m encoder_model, decoder_model \u001b[38;5;241m=\u001b[39m \u001b[43mextract_encoder_decoder_models\u001b[49m\u001b[43m(\u001b[49m\u001b[43mmodel\u001b[49m\u001b[43m)\u001b[49m\n\u001b[0;32m     29\u001b[0m \u001b[38;5;66;03m# Now you can use the infer_sequence function\u001b[39;00m\n\u001b[0;32m     30\u001b[0m input_text \u001b[38;5;241m=\u001b[39m \u001b[38;5;124m\"\u001b[39m\u001b[38;5;124mHello, how are you?\u001b[39m\u001b[38;5;124m\"\u001b[39m\n",
      "Cell \u001b[1;32mIn[16], line 5\u001b[0m, in \u001b[0;36mextract_encoder_decoder_models\u001b[1;34m(model)\u001b[0m\n\u001b[0;32m      3\u001b[0m \u001b[38;5;28;01mdef\u001b[39;00m \u001b[38;5;21mextract_encoder_decoder_models\u001b[39m(model):\n\u001b[0;32m      4\u001b[0m     encoder_inputs \u001b[38;5;241m=\u001b[39m model\u001b[38;5;241m.\u001b[39minput[\u001b[38;5;241m0\u001b[39m]  \u001b[38;5;66;03m# input_1 in some cases\u001b[39;00m\n\u001b[1;32m----> 5\u001b[0m     encoder_outputs, state_h_enc, state_c_enc \u001b[38;5;241m=\u001b[39m model\u001b[38;5;241m.\u001b[39mlayers[\u001b[38;5;241m2\u001b[39m]\u001b[38;5;241m.\u001b[39moutput  \u001b[38;5;66;03m# lstm_1 in some cases\u001b[39;00m\n\u001b[0;32m      6\u001b[0m     encoder_states \u001b[38;5;241m=\u001b[39m [state_h_enc, state_c_enc]\n\u001b[0;32m      7\u001b[0m     encoder_model \u001b[38;5;241m=\u001b[39m Model(encoder_inputs, encoder_states)\n",
      "File \u001b[1;32mc:\\Users\\willi\\Anaconda3\\envs\\analytics\\lib\\site-packages\\keras\\src\\engine\\keras_tensor.py:410\u001b[0m, in \u001b[0;36mKerasTensor.__iter__\u001b[1;34m(self)\u001b[0m\n\u001b[0;32m    408\u001b[0m     \u001b[38;5;28;01mraise\u001b[39;00m \u001b[38;5;167;01mTypeError\u001b[39;00m(\u001b[38;5;124m\"\u001b[39m\u001b[38;5;124mCannot iterate over a scalar.\u001b[39m\u001b[38;5;124m\"\u001b[39m)\n\u001b[0;32m    409\u001b[0m \u001b[38;5;28;01mif\u001b[39;00m shape[\u001b[38;5;241m0\u001b[39m] \u001b[38;5;129;01mis\u001b[39;00m \u001b[38;5;28;01mNone\u001b[39;00m:\n\u001b[1;32m--> 410\u001b[0m     \u001b[38;5;28;01mraise\u001b[39;00m \u001b[38;5;167;01mTypeError\u001b[39;00m(\n\u001b[0;32m    411\u001b[0m         \u001b[38;5;124m\"\u001b[39m\u001b[38;5;124mCannot iterate over a Tensor with unknown first dimension.\u001b[39m\u001b[38;5;124m\"\u001b[39m\n\u001b[0;32m    412\u001b[0m     )\n\u001b[0;32m    413\u001b[0m \u001b[38;5;28;01mreturn\u001b[39;00m _KerasTensorIterator(\u001b[38;5;28mself\u001b[39m, shape[\u001b[38;5;241m0\u001b[39m])\n",
      "\u001b[1;31mTypeError\u001b[0m: Cannot iterate over a Tensor with unknown first dimension."
     ]
    }
   ],
   "source": [
    "import numpy as np\n",
    "\n",
    "def extract_encoder_decoder_models(model):\n",
    "    encoder_inputs = model.input[0]  # input_1 in some cases\n",
    "    encoder_outputs, state_h_enc, state_c_enc = model.layers[2].output  # lstm_1 in some cases\n",
    "    encoder_states = [state_h_enc, state_c_enc]\n",
    "    encoder_model = Model(encoder_inputs, encoder_states)\n",
    "\n",
    "    decoder_state_input_h = Input(shape=(hidden_units,))\n",
    "    decoder_state_input_c = Input(shape=(hidden_units,))\n",
    "    decoder_states_inputs = [decoder_state_input_h, decoder_state_input_c]\n",
    "\n",
    "    decoder_inputs = model.input[1]  # input_2 in some cases\n",
    "    decoder_embedding_layer = model.layers[3]  # embedding_1 in some cases\n",
    "    decoder_lstm = model.layers[4]  # lstm_2 in some cases\n",
    "    decoder_outputs, state_h_dec, state_c_dec = decoder_lstm(decoder_embedding_layer(decoder_inputs), initial_state=decoder_states_inputs)\n",
    "    decoder_states = [state_h_dec, state_c_dec]\n",
    "    decoder_dense = model.layers[5]  # dense_1 in some cases\n",
    "    decoder_outputs = decoder_dense(decoder_outputs)\n",
    "\n",
    "    decoder_model = Model([decoder_inputs] + decoder_states_inputs, [decoder_outputs] + decoder_states)\n",
    "\n",
    "    return encoder_model, decoder_model\n",
    "\n",
    "# Example usage\n",
    "# Assuming 'model' is your trained Seq2Seq model\n",
    "encoder_model, decoder_model = extract_encoder_decoder_models(model)\n",
    "\n",
    "# Now you can use the infer_sequence function\n",
    "input_text = \"Hello, how are you?\"\n",
    "encoded_text = infer_sequence(input_text, encoder_model, decoder_model, input_tokenizer, output_tokenizer, max_output_length=20)\n",
    "\n",
    "print(f\"Input: {input_text}\")\n",
    "print(f\"Translated output: {encoded_text}\")\n"
   ]
  },
  {
   "cell_type": "code",
   "execution_count": null,
   "metadata": {},
   "outputs": [],
   "source": []
  },
  {
   "cell_type": "code",
   "execution_count": null,
   "metadata": {},
   "outputs": [],
   "source": []
  }
 ],
 "metadata": {
  "kernelspec": {
   "display_name": "analytics",
   "language": "python",
   "name": "python3"
  },
  "language_info": {
   "codemirror_mode": {
    "name": "ipython",
    "version": 3
   },
   "file_extension": ".py",
   "mimetype": "text/x-python",
   "name": "python",
   "nbconvert_exporter": "python",
   "pygments_lexer": "ipython3",
   "version": "3.9.17"
  }
 },
 "nbformat": 4,
 "nbformat_minor": 2
}
