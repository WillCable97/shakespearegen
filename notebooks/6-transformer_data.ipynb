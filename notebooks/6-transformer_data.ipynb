{
 "cells": [
  {
   "cell_type": "markdown",
   "metadata": {},
   "source": [
    "Data import"
   ]
  },
  {
   "cell_type": "code",
   "execution_count": 53,
   "metadata": {},
   "outputs": [],
   "source": [
    "from datasets import load_dataset\n",
    "from tensorflow.keras.preprocessing.text import Tokenizer\n",
    "import numpy as np"
   ]
  },
  {
   "cell_type": "code",
   "execution_count": 60,
   "metadata": {},
   "outputs": [],
   "source": [
    "class TransformerDataSet:\n",
    "    def __init__(self, hugging_face_name:str, sequence_length:int) -> None:\n",
    "        self.sequence_length = sequence_length\n",
    "        self.laoded_text = self.load_text(hugging_face_name)\n",
    "        self.tokenizer = self.generate_token()\n",
    "        self.word_sequences = self.tokenizer.texts_to_sequences(self.laoded_text)[0]\n",
    "        self.vocab_size = max(self.word_sequences)\n",
    "        self.number_of_sequences, self.data_split = self.create_splits(self.sequence_length)\n",
    "        self.inputs, self.outputs = self.add_target_variables()\n",
    "\n",
    "    def load_text(self, hugging_face_name: str) -> list[str]:\n",
    "        dataset = load_dataset(hugging_face_name)\n",
    "        all_training_text = dataset[\"train\"][\"text\"]\n",
    "        sentences = all_training_text\n",
    "        return sentences\n",
    "    \n",
    "    def generate_token(self):\n",
    "        tokenizer = Tokenizer()\n",
    "        tokenizer.fit_on_texts(self.laoded_text)\n",
    "        return tokenizer  \n",
    "    \n",
    "    def create_splits(self, sequence_length: int):\n",
    "        number_of_sequences = len(self.word_sequences) // self.sequence_length\n",
    "        splits_sequence = [self.word_sequences[i* sequence_length: (i+1) * sequence_length] for i in range(number_of_sequences)]\n",
    "        return number_of_sequences, splits_sequence\n",
    "    \n",
    "    def add_target_variables(self):\n",
    "        input = [seq[:-1] for seq in self.data_split]\n",
    "        ouptut = [seq[1:] for seq in self.data_split]\n",
    "\n",
    "        return np.array(input), np.array(ouptut)\n"
   ]
  },
  {
   "cell_type": "code",
   "execution_count": 61,
   "metadata": {},
   "outputs": [],
   "source": [
    "def pad_list(input_list, max_size):\n",
    "    list_size = len(input_list)\n",
    "    if list_size >= max_size: return input_list[:80]\n",
    "    padding_count = max_size - list_size\n",
    "    padding_list = [0] * padding_count \n",
    "    return input_list + padding_list"
   ]
  },
  {
   "cell_type": "code",
   "execution_count": 68,
   "metadata": {},
   "outputs": [],
   "source": [
    "class TransformerDataSetText:\n",
    "    def __init__(self, file_path:str, sequence_length:int) -> None:\n",
    "        self.sequence_length = sequence_length\n",
    "        self.laoded_text = self.load_text(file_path)\n",
    "        self.tokenizer = self.generate_token()\n",
    "        self.word_sequences = self.tokenizer.texts_to_sequences(self.laoded_text)\n",
    "        self.vocab_size = len(self.tokenizer.word_index) + 1\n",
    "        self.number_of_sequences, self.data_split = self.create_splits(self.sequence_length)\n",
    "        self.inputs, self.outputs = self.add_target_variables()\n",
    "\n",
    "    def load_text(self, file_path: str) -> list[str]:\n",
    "        text_file = open(file_path, 'r')\n",
    "        all_text = text_file.readlines()\n",
    "        all_text_formated = [line_str.replace(\"\\\"\", \"\") for line_str in all_text]\n",
    "        all_text_formated = all_text_formated[: len(all_text_formated) //2] #this will need to be removed !!\n",
    "        #return [pad_list(x, 80) for x in all_text_formated]\n",
    "        \n",
    "        return all_text_formated\n",
    "    \n",
    "    def generate_token(self):\n",
    "        tokenizer = Tokenizer()\n",
    "        tokenizer.fit_on_texts(self.laoded_text)\n",
    "        return tokenizer  \n",
    "    \n",
    "    def create_splits(self, sequence_length: int):\n",
    "        number_of_sequences = len(self.laoded_text)\n",
    "        splits_sequence = [pad_list(x, 80) for x in self.word_sequences]\n",
    "        return number_of_sequences, splits_sequence\n",
    "    \n",
    "    def add_target_variables(self):\n",
    "        input = [seq[:-1] for seq in self.data_split]\n",
    "        ouptut = [seq[1:] for seq in self.data_split]\n",
    "\n",
    "\n",
    "        return np.array(input), np.array(ouptut)"
   ]
  },
  {
   "cell_type": "code",
   "execution_count": 69,
   "metadata": {},
   "outputs": [],
   "source": [
    "#data_object = TransformerDataSet(\"tiny_shakespeare\", 80)\n",
    "\n",
    "\n",
    "file_path_for_text = r\"C:\\Users\\willi\\Desktop\\Data Science Portfolio\\shakespearegen\\data\\raw\\archive\\alllines.txt\"\n",
    "data_object = TransformerDataSetText(file_path_for_text, 80)"
   ]
  },
  {
   "cell_type": "code",
   "execution_count": 70,
   "metadata": {},
   "outputs": [
    {
     "name": "stdout",
     "output_type": "stream",
     "text": [
      "18887\n"
     ]
    }
   ],
   "source": [
    "print(data_object.vocab_size)"
   ]
  },
  {
   "cell_type": "code",
   "execution_count": 59,
   "metadata": {},
   "outputs": [
    {
     "data": {
      "text/plain": [
       "(55698, 79)"
      ]
     },
     "execution_count": 59,
     "metadata": {},
     "output_type": "execute_result"
    }
   ],
   "source": [
    "#data_object.inputs.shape"
   ]
  },
  {
   "cell_type": "code",
   "execution_count": null,
   "metadata": {},
   "outputs": [],
   "source": []
  }
 ],
 "metadata": {
  "kernelspec": {
   "display_name": "analytics",
   "language": "python",
   "name": "python3"
  },
  "language_info": {
   "codemirror_mode": {
    "name": "ipython",
    "version": 3
   },
   "file_extension": ".py",
   "mimetype": "text/x-python",
   "name": "python",
   "nbconvert_exporter": "python",
   "pygments_lexer": "ipython3",
   "version": "3.9.17"
  }
 },
 "nbformat": 4,
 "nbformat_minor": 2
}
