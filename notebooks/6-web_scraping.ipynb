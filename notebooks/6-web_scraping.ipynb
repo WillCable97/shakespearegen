{
 "cells": [
  {
   "cell_type": "code",
   "execution_count": 1,
   "metadata": {},
   "outputs": [],
   "source": [
    "from urllib.request import urlopen\n",
    "import urllib\n",
    "from bs4 import BeautifulSoup"
   ]
  },
  {
   "cell_type": "code",
   "execution_count": 2,
   "metadata": {},
   "outputs": [],
   "source": [
    "url = \"https://www.litcharts.com/shakescleare/shakespeare-translations/all-s-well-that-ends-well/act-1-scene-1\"\n"
   ]
  },
  {
   "cell_type": "code",
   "execution_count": 81,
   "metadata": {},
   "outputs": [],
   "source": [
    "def get_text_from_site(input_url):\n",
    "    page = urlopen(input_url)\n",
    "    html_bytes = page.read()\n",
    "    input_soup = BeautifulSoup(html_bytes, 'html.parser')\n",
    "    div_list =[\"col original-play\", \"translation-content\"]#\"col modern-translation\"]\n",
    "    classes_list = [\"stage-directions\", \"acs-character-heading\", \"speaker-text\"]\n",
    "    all_line_segments = input_soup.find_all(\"div\", {\"class\": \"comparison-row\"})\n",
    "    english_lines =[]\n",
    "    og_lines =[]\n",
    "    i=0\n",
    "\n",
    "    for line_segment in all_line_segments:\n",
    "        side_by_side = []\n",
    "        for version in div_list:\n",
    "            version_div = line_segment.find(\"div\", {\"class\": version})\n",
    "            if version_div == None: continue\n",
    "\n",
    "            version_text_vector = [[text_element.get_text().strip() for text_element in version_div.find_all(\"p\", {\"class\": type_name})] \n",
    "                                   for type_name in classes_list]\n",
    "            side_by_side.append(version_text_vector)\n",
    "        i+=1\n",
    "        if i==1: continue\n",
    "\n",
    "\n",
    "        if not (side_by_side[0][2] == [] and side_by_side[1][2] == []):\n",
    "            english_lines.append(''.join(side_by_side[1][2]))\n",
    "            og_lines.append(''.join(side_by_side[0][2]))\n",
    "\n",
    "    return english_lines, og_lines\n",
    "\n",
    "A,B = get_text_from_site(url)"
   ]
  },
  {
   "cell_type": "markdown",
   "metadata": {},
   "source": [
    "Looping over all titles"
   ]
  },
  {
   "cell_type": "code",
   "execution_count": 101,
   "metadata": {},
   "outputs": [],
   "source": [
    "import requests\n",
    "from urllib.parse import urljoin"
   ]
  },
  {
   "cell_type": "code",
   "execution_count": 88,
   "metadata": {},
   "outputs": [],
   "source": [
    "url = \"https://www.litcharts.com/shakescleare/shakespeare-translations\"\n",
    "page = urlopen(url)\n",
    "html_bytes = page.read()\n",
    "input_soup = BeautifulSoup(html_bytes, 'html.parser')"
   ]
  },
  {
   "cell_type": "code",
   "execution_count": 126,
   "metadata": {},
   "outputs": [],
   "source": [
    "import time"
   ]
  },
  {
   "cell_type": "code",
   "execution_count": 127,
   "metadata": {},
   "outputs": [],
   "source": [
    "import pickle"
   ]
  },
  {
   "cell_type": "code",
   "execution_count": null,
   "metadata": {},
   "outputs": [],
   "source": [
    ">>> \n",
    ">>> l = [1,2,3,4]\n",
    ">>> with open(\"test\", \"wb\") as fp:   #Pickling\n",
    "...   pickle.dump(l, fp)\n",
    "... \n",
    ">>> with open(\"test\", \"rb\") as fp:   # Unpickling\n",
    "...   b = pickle.load(fp)\n",
    "... \n",
    ">>> b\n",
    "[1, 2, 3, 4]"
   ]
  },
  {
   "cell_type": "code",
   "execution_count": 128,
   "metadata": {},
   "outputs": [],
   "source": [
    "import os"
   ]
  },
  {
   "cell_type": "code",
   "execution_count": 132,
   "metadata": {},
   "outputs": [],
   "source": [
    "all_titles_complete = []"
   ]
  },
  {
   "cell_type": "code",
   "execution_count": 149,
   "metadata": {},
   "outputs": [
    {
     "name": "stdout",
     "output_type": "stream",
     "text": [
      "Working on: All's Well That Ends Well\n",
      "Working on: Antony and Cleopatra\n",
      "Working on: As You Like It\n",
      "Working on: The Comedy of Errors\n",
      "Working on: Coriolanus\n",
      "Working on: Cymbeline\n",
      "Working on: Hamlet\n",
      "Working on: Henry IV, Part 1\n",
      "Working on: Henry IV, Part 2\n",
      "Working on: Henry V\n",
      "Working on: Henry VI, Part 1\n",
      "Working on: Henry VI, Part 2\n",
      "Working on: Henry VI, Part 3\n",
      "Working on: Henry VIII\n",
      "Working on: Julius Caesar\n",
      "Working on: King John\n",
      "Working on: King Lear\n",
      "Working on: Love's Labor's Lost\n",
      "Working on: A Lover's Complaint\n",
      "Working on: Macbeth\n",
      "Working on: Measure for Measure\n",
      "Working on: The Merchant of Venice\n",
      "Working on: The Merry Wives of Windsor\n",
      "Working on: A Midsummer Night's Dream\n",
      "Working on: Much Ado About Nothing\n",
      "Working on: Othello\n",
      "Working on: Pericles\n",
      "Working on: The Rape of Lucrece\n",
      "Working on: Richard II\n",
      "Working on: Richard III\n",
      "Working on: Romeo and Juliet\n",
      "Working on: Shakespeare's Sonnets\n",
      "Working on: The Taming of the Shrew\n",
      "Working on: The Tempest\n",
      "Working on: Timon of Athens\n",
      "Working on: Titus Andronicus\n",
      "Working on: Troilus and Cressida\n",
      "Working on: Twelfth Night\n",
      "Working on: The Two Gentlemen of Verona\n",
      "Working on: Venus and Adonis\n",
      "Working on: The Winter's Tale\n",
      "Working on: Act 1, Scene 1, Link: https://www.litcharts.com/shakescleare/shakespeare-translations/the-winters-tale/act-1-scene-1\n",
      "Working on: Act 1, Scene 2, Link: https://www.litcharts.com/shakescleare/shakespeare-translations/the-winters-tale/act-1-scene-2\n",
      "Working on: Act 2, Scene 1, Link: https://www.litcharts.com/shakescleare/shakespeare-translations/the-winters-tale/act-2-scene-1\n",
      "Working on: Act 2, Scene 2, Link: https://www.litcharts.com/shakescleare/shakespeare-translations/the-winters-tale/act-2-scene-2\n",
      "Working on: Act 2, Scene 3, Link: https://www.litcharts.com/shakescleare/shakespeare-translations/the-winters-tale/act-2-scene-3\n",
      "Working on: Act 3, Scene 1, Link: https://www.litcharts.com/shakescleare/shakespeare-translations/the-winters-tale/act-3-scene-1\n",
      "Working on: Act 3, Scene 2, Link: https://www.litcharts.com/shakescleare/shakespeare-translations/the-winters-tale/act-3-scene-2\n",
      "Working on: Act 3, Scene 3, Link: https://www.litcharts.com/shakescleare/shakespeare-translations/the-winters-tale/act-3-scene-3\n",
      "Working on: Act 4, Scene 1, Link: https://www.litcharts.com/shakescleare/shakespeare-translations/the-winters-tale/act-4-scene-1\n",
      "Working on: Act 4, Scene 2, Link: https://www.litcharts.com/shakescleare/shakespeare-translations/the-winters-tale/act-4-scene-2\n",
      "Working on: Act 4, Scene 3, Link: https://www.litcharts.com/shakescleare/shakespeare-translations/the-winters-tale/act-4-scene-3\n",
      "Working on: Act 4, Scene 4, Link: https://www.litcharts.com/shakescleare/shakespeare-translations/the-winters-tale/act-4-scene-4\n",
      "Working on: Act 5, Scene 1, Link: https://www.litcharts.com/shakescleare/shakespeare-translations/the-winters-tale/act-5-scene-1\n",
      "Working on: Act 5, Scene 2, Link: https://www.litcharts.com/shakescleare/shakespeare-translations/the-winters-tale/act-5-scene-2\n",
      "Working on: Act 5, Scene 3, Link: https://www.litcharts.com/shakescleare/shakespeare-translations/the-winters-tale/act-5-scene-3\n"
     ]
    }
   ],
   "source": [
    "for play in input_soup.find_all(\"li\", {\"class\": \"shakespeare-title\"}):\n",
    "    all_english_lines_final = []\n",
    "    all_og_lines_final = []\n",
    "\n",
    "    link_div = play.find(\"a\", {\"class\": \"translation hoverable\"})\n",
    "    title_div = play.find(\"div\", {\"class\": \"title\"})\n",
    "    title = title_div.get_text()\n",
    "    link = urljoin(url, link_div['href']) #link_div['href']\n",
    "    print(f\"Working on: {title}\")\n",
    "    if title in all_titles_complete: continue\n",
    "\n",
    "    #Go through acts and scenes\n",
    "    acts_scenes_page = urlopen(link)\n",
    "    html_bytes_acts = acts_scenes_page.read()\n",
    "    acts_soup = BeautifulSoup(html_bytes_acts, 'html.parser')\n",
    "    act_table_of_conts = acts_soup.find(\"div\", {\"class\": \"shakespeare-translations-container\"}).find(\"div\", {\"class\": \"table-of-contents\"})\n",
    "\n",
    "    for link_found in act_table_of_conts.find_all('a', href = True): \n",
    "        act_name_div = link_found.find(\"h3\", {\"class\": \"naked title\"})\n",
    "        act_name = act_name_div.get_text()\n",
    "        act_link = link_found['href']\n",
    "        act_link = urljoin(link, link_found['href'])\n",
    "        print(f\"Working on: {act_name}, Link: {act_link}\")\n",
    "\n",
    "        english_lines, og_lines = get_text_from_site(act_link)\n",
    "        all_english_lines_final += english_lines\n",
    "        all_og_lines_final += og_lines\n",
    "        \n",
    "        time.sleep(2)\n",
    "\n",
    "    save_path = f\"./data/{title}\"\n",
    "    \n",
    "    if not os.path.exists(save_path): os.makedirs(save_path)\n",
    "\n",
    "    with open(os.path.join(save_path, \"english_lines.txt\"), \"wb\") as fp:   #Pickling\n",
    "        pickle.dump(all_english_lines_final, fp)\n",
    "    \n",
    "    with open(os.path.join(save_path, \"og_lines.txt\"), \"wb\") as fp:   #Pickling\n",
    "        pickle.dump(all_og_lines_final, fp)\n",
    "\n",
    "    all_titles_complete.append(title)\n"
   ]
  },
  {
   "cell_type": "code",
   "execution_count": 150,
   "metadata": {},
   "outputs": [
    {
     "data": {
      "text/plain": [
       "[\"All's Well That Ends Well\",\n",
       " 'Antony and Cleopatra',\n",
       " 'As You Like It',\n",
       " 'The Comedy of Errors',\n",
       " 'Coriolanus',\n",
       " 'Cymbeline',\n",
       " 'Hamlet',\n",
       " 'Henry IV, Part 1',\n",
       " 'Henry IV, Part 2',\n",
       " 'Henry V',\n",
       " 'Henry VI, Part 1',\n",
       " 'Henry VI, Part 2',\n",
       " 'Henry VI, Part 3',\n",
       " 'Henry VIII',\n",
       " 'Julius Caesar',\n",
       " 'King John',\n",
       " 'King Lear',\n",
       " \"Love's Labor's Lost\",\n",
       " \"A Lover's Complaint\",\n",
       " 'Macbeth',\n",
       " 'Measure for Measure',\n",
       " 'The Merchant of Venice',\n",
       " 'The Merry Wives of Windsor',\n",
       " \"A Midsummer Night's Dream\",\n",
       " 'Much Ado About Nothing',\n",
       " 'Othello',\n",
       " 'Pericles',\n",
       " 'The Rape of Lucrece',\n",
       " 'Richard II',\n",
       " 'Richard III',\n",
       " 'Romeo and Juliet',\n",
       " \"Shakespeare's Sonnets\",\n",
       " 'The Taming of the Shrew',\n",
       " 'The Tempest',\n",
       " 'Timon of Athens',\n",
       " 'Titus Andronicus',\n",
       " 'Troilus and Cressida',\n",
       " 'Twelfth Night',\n",
       " 'The Two Gentlemen of Verona',\n",
       " 'Venus and Adonis',\n",
       " \"The Winter's Tale\"]"
      ]
     },
     "execution_count": 150,
     "metadata": {},
     "output_type": "execute_result"
    }
   ],
   "source": [
    "all_titles_complete#.append(\"Venus and Adonis\")"
   ]
  },
  {
   "cell_type": "code",
   "execution_count": null,
   "metadata": {},
   "outputs": [],
   "source": [
    "#.append(\"A Lover's Complaint\")\n",
    "#.append(\"The Rape of Lucrece\")"
   ]
  }
 ],
 "metadata": {
  "kernelspec": {
   "display_name": "analytics",
   "language": "python",
   "name": "python3"
  },
  "language_info": {
   "codemirror_mode": {
    "name": "ipython",
    "version": 3
   },
   "file_extension": ".py",
   "mimetype": "text/x-python",
   "name": "python",
   "nbconvert_exporter": "python",
   "pygments_lexer": "ipython3",
   "version": "3.9.17"
  }
 },
 "nbformat": 4,
 "nbformat_minor": 2
}
