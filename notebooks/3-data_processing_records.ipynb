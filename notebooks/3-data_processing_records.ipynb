{
 "cells": [
  {
   "cell_type": "code",
   "execution_count": 9,
   "metadata": {},
   "outputs": [],
   "source": [
    "import os\n",
    "import tensorflow as tf\n",
    "import numpy as np "
   ]
  },
  {
   "cell_type": "code",
   "execution_count": 31,
   "metadata": {},
   "outputs": [],
   "source": [
    "base_folder=os.path.abspath('../')\n",
    "raw_data_folder= os.path.join(base_folder, 'data', 'raw', 'monet2photo')\n",
    "processed_data_folder=os.path.join(base_folder, 'data', 'processed', 'monet2photo')\n",
    "sub_dir_list=['trainB']#, 'testB']#, 'trainA', 'trainB']"
   ]
  },
  {
   "cell_type": "code",
   "execution_count": 33,
   "metadata": {},
   "outputs": [],
   "source": [
    "def create_list_of_img_paths(img_dir: str):\n",
    "    return_list = [] \n",
    "    file_names = []\n",
    "    counter=0\n",
    "\n",
    "    #print(img_dir)\n",
    "\n",
    "    for filename in os.listdir(img_dir):\n",
    "        return_list.append(os.path.join(img_dir, filename))\n",
    "        file_names.append(str.replace(filename, '.jpg', ''))\n",
    "\n",
    "        counter+=1\n",
    "        if counter > 1072 :\n",
    "            break #only one for now\n",
    "    \n",
    "    return return_list, file_names"
   ]
  },
  {
   "cell_type": "code",
   "execution_count": 27,
   "metadata": {},
   "outputs": [],
   "source": [
    "# Define a function to create a TFExample from your data\n",
    "def create_tf_example(data):\n",
    "    feature = {\n",
    "        'text_feature': tf.train.Feature(\n",
    "            bytes_list=tf.train.BytesList(value=[data['text_feature'].encode('utf-8')])\n",
    "        ),\n",
    "    }\n",
    "    example = tf.train.Example(features=tf.train.Features(feature=feature))\n",
    "    return example"
   ]
  },
  {
   "cell_type": "code",
   "execution_count": 28,
   "metadata": {},
   "outputs": [],
   "source": [
    "def save_tf_records(image_file_path : str, tf_record_base_path : str, file_name : str): \n",
    "    # Define the data you want to save\n",
    "    data_to_save = {\n",
    "        'text_feature': image_file_path,  # Modify with your string data\n",
    "    }\n",
    "\n",
    "    # Specify the path to save the TFRecord\n",
    "    tfrecord_file = os.path.join(tf_record_base_path, file_name + '.tfrecord')\n",
    "\n",
    "    # Create a TFRecordWriter and write the example\n",
    "    with tf.io.TFRecordWriter(tfrecord_file) as writer:\n",
    "        example = create_tf_example(data_to_save)\n",
    "        writer.write(example.SerializeToString())\n"
   ]
  },
  {
   "cell_type": "code",
   "execution_count": 34,
   "metadata": {},
   "outputs": [],
   "source": [
    "for sub_dir in sub_dir_list:\n",
    "    img_paths, img_name = create_list_of_img_paths(img_dir=os.path.join(raw_data_folder, sub_dir))\n",
    "    #print(sub_dir)\n",
    "    #print(len(img_paths))\n",
    "    #print(len(img_name))\n",
    "    \n",
    "    for [file_path, file_name] in zip(img_paths, img_name):\n",
    "        save_tf_records(file_path, os.path.join(processed_data_folder, sub_dir) ,file_name )\n",
    "    "
   ]
  },
  {
   "cell_type": "markdown",
   "metadata": {},
   "source": []
  },
  {
   "cell_type": "code",
   "execution_count": null,
   "metadata": {},
   "outputs": [],
   "source": []
  }
 ],
 "metadata": {
  "kernelspec": {
   "display_name": "analytics",
   "language": "python",
   "name": "python3"
  },
  "language_info": {
   "codemirror_mode": {
    "name": "ipython",
    "version": 3
   },
   "file_extension": ".py",
   "mimetype": "text/x-python",
   "name": "python",
   "nbconvert_exporter": "python",
   "pygments_lexer": "ipython3",
   "version": "3.9.17"
  }
 },
 "nbformat": 4,
 "nbformat_minor": 2
}
