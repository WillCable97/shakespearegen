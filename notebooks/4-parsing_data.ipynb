{
 "cells": [
  {
   "cell_type": "code",
   "execution_count": null,
   "metadata": {},
   "outputs": [],
   "source": [
    "import os\n",
    "import tensorflow as tf\n",
    "from pathlib import Path\n",
    "import tensorflow as tf\n",
    "import numpy as np \n",
    "import PIL"
   ]
  },
  {
   "cell_type": "code",
   "execution_count": null,
   "metadata": {},
   "outputs": [],
   "source": [
    "base_folder=os.path.abspath('../')\n",
    "raw_data_folder= os.path.join(base_folder, 'data', 'raw', 'monet2photo')\n",
    "processed_data_folder=os.path.join(base_folder, 'data', 'processed', 'monet2photo')\n",
    "sub_dir_list=['testA', 'testB', 'trainA', 'trainB']"
   ]
  },
  {
   "cell_type": "code",
   "execution_count": null,
   "metadata": {},
   "outputs": [],
   "source": [
    "records_path=os.path.join(os.path.join(processed_data_folder, 'testB'))\n",
    "\n",
    "tfrecord_file=[os.path.join(records_path, filename) for filename in os.listdir(records_path)]"
   ]
  },
  {
   "cell_type": "code",
   "execution_count": null,
   "metadata": {},
   "outputs": [],
   "source": [
    "tfrecord_file"
   ]
  },
  {
   "cell_type": "code",
   "execution_count": null,
   "metadata": {},
   "outputs": [],
   "source": [
    "# Define a function to parse a TFRecord with a string feature\n",
    "def parse_tfrecord_fn(record):\n",
    "    feature_description = {\n",
    "        'text_feature': tf.io.FixedLenFeature([], dtype=tf.string),\n",
    "    }\n",
    "    example = tf.io.parse_single_example(record, feature_description)\n",
    "    return example\n",
    "\n",
    "# Read and parse the TFRecord\n",
    "raw_dataset = tf.data.TFRecordDataset(tfrecord_file)\n",
    "parsed_dataset = raw_dataset.map(parse_tfrecord_fn)\n",
    "\n",
    "# Iterate over the parsed dataset\n",
    "for record in parsed_dataset:\n",
    "    text_feature = record['text_feature'].numpy().decode('utf-8')\n",
    "    print(text_feature)"
   ]
  },
  {
   "cell_type": "code",
   "execution_count": null,
   "metadata": {},
   "outputs": [],
   "source": []
  },
  {
   "cell_type": "code",
   "execution_count": null,
   "metadata": {},
   "outputs": [],
   "source": []
  }
 ],
 "metadata": {
  "language_info": {
   "name": "python"
  }
 },
 "nbformat": 4,
 "nbformat_minor": 2
}
