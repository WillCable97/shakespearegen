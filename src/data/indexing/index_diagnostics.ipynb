{
 "cells": [
  {
   "cell_type": "code",
   "execution_count": 117,
   "metadata": {},
   "outputs": [],
   "source": [
    "from CharacterIndexing import CharacterIndexing\n",
    "from TokenIndexing import TokenIndexing\n",
    "from loremipsum import get_sentences, generate_paragraph\n",
    "from tensorflow.keras.preprocessing.text import Tokenizer"
   ]
  },
  {
   "cell_type": "code",
   "execution_count": 118,
   "metadata": {},
   "outputs": [],
   "source": [
    "sample_tokenizer = Tokenizer()"
   ]
  },
  {
   "cell_type": "code",
   "execution_count": 119,
   "metadata": {},
   "outputs": [],
   "source": [
    "token_inst = TokenIndexing(sample_tokenizer)\n",
    "char_inst = CharacterIndexing()"
   ]
  },
  {
   "cell_type": "code",
   "execution_count": 120,
   "metadata": {},
   "outputs": [],
   "source": [
    "def format_sample_text(input_text: str) -> str:\n",
    "    return input_text.replace(\"'\", \"\")"
   ]
  },
  {
   "cell_type": "code",
   "execution_count": 121,
   "metadata": {},
   "outputs": [],
   "source": [
    "sample_paragraph = format_sample_text(generate_paragraph()[2])\n",
    "sample_paragraph = [sample_paragraph]"
   ]
  },
  {
   "cell_type": "code",
   "execution_count": 122,
   "metadata": {},
   "outputs": [],
   "source": [
    "sample_sentences_raw = get_sentences(15)\n",
    "sample_sentences = [format_sample_text(x) for x in sample_sentences_raw]"
   ]
  },
  {
   "cell_type": "code",
   "execution_count": 123,
   "metadata": {},
   "outputs": [],
   "source": [
    "\n",
    "def create_count_from_mapping(input_indexer, input_sentences: list)-> list:\n",
    "    input_indexer.create_mapping(input_sentences)\n",
    "    found_text = input_indexer.mapped_input()\n",
    "    return [len(x) for x in found_text] \n",
    "    "
   ]
  },
  {
   "cell_type": "code",
   "execution_count": 124,
   "metadata": {},
   "outputs": [],
   "source": [
    "#Token inst diagnostics\n",
    "paragrah_ind_len = [len(sentence.split()) for sentence in sample_paragraph]\n",
    "assert paragrah_ind_len==create_count_from_mapping(token_inst, sample_paragraph), \"Tokenizer paragraph count differs\"\n",
    "\n",
    "\n",
    "sentence_ind_len = [len(sentence.split()) for sentence in sample_sentences]\n",
    "assert sentence_ind_len==create_count_from_mapping(token_inst, sample_sentences), \"Tokenizer sentence count differs\"\n"
   ]
  },
  {
   "cell_type": "code",
   "execution_count": 125,
   "metadata": {},
   "outputs": [],
   "source": [
    "#Char inst diagnostics\n",
    "paragrah_ind_len_char = [len(sentence) for sentence in sample_paragraph]\n",
    "assert paragrah_ind_len_char==create_count_from_mapping(char_inst, sample_paragraph), \"CharIndex paragraph count differs\"\n",
    "\n",
    "\n",
    "sentence_ind_len_char = [len(sentence) for sentence in sample_sentences]\n",
    "assert sentence_ind_len_char==create_count_from_mapping(char_inst, sample_sentences), \"CharIndex sentence count differs\"\n"
   ]
  },
  {
   "cell_type": "code",
   "execution_count": null,
   "metadata": {},
   "outputs": [],
   "source": []
  }
 ],
 "metadata": {
  "kernelspec": {
   "display_name": "analytics",
   "language": "python",
   "name": "python3"
  },
  "language_info": {
   "codemirror_mode": {
    "name": "ipython",
    "version": 3
   },
   "file_extension": ".py",
   "mimetype": "text/x-python",
   "name": "python",
   "nbconvert_exporter": "python",
   "pygments_lexer": "ipython3",
   "version": "3.9.17"
  }
 },
 "nbformat": 4,
 "nbformat_minor": 2
}
